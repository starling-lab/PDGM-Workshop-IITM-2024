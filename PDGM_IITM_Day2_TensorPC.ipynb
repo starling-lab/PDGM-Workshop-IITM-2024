{
  "cells": [
    {
      "cell_type": "markdown",
      "metadata": {
        "id": "view-in-github",
        "colab_type": "text"
      },
      "source": [
        "<a href=\"https://colab.research.google.com/github/starling-lab/PDGM-Workshop-IITM-2024/blob/main/PDGM_IITM_Day2_TensorPC.ipynb\" target=\"_parent\"><img src=\"https://colab.research.google.com/assets/colab-badge.svg\" alt=\"Open In Colab\"/></a>"
      ]
    },
    {
      "cell_type": "markdown",
      "metadata": {
        "id": "7XCagsdlMBbD"
      },
      "source": [
        "\n",
        "\n",
        "---\n",
        "# Workshop on Probabilistic Deep Generative Models\n",
        "\n",
        "---\n",
        "\n",
        "\n",
        "In this notebook, we will look at how to train a Deep Probabilistic Circuit - an **Einsum Network** [1] to model the joint probability distribution over handwritten digits. We will also look at how we can use tractability of probabilistic inference to perform inpainting when pixels are occluded.\n",
        "\n",
        "\n",
        "[1] *R. Peharz, S. Lang, A. Vergari, K. Stelzner, A. Molina, M. Trapp, G. Van den Broeck, K. Kersting, Z. Ghahramani, Einsum Networks: Fast and Scalable Learning of Tractable Probabilistic Circuits, ICML 2020.*\n",
        "\n",
        "## Generative Modeling with Einsum Networks"
      ]
    },
    {
      "cell_type": "code",
      "source": [
        "# Import necessary packages\n",
        "import os\n",
        "import numpy as np\n",
        "import torch, torchvision\n",
        "from tqdm import tqdm\n",
        "import matplotlib.pyplot as plt"
      ],
      "metadata": {
        "id": "FHyvRlIZGXMO"
      },
      "execution_count": null,
      "outputs": []
    },
    {
      "cell_type": "markdown",
      "metadata": {
        "id": "b45CUs4iMIAr"
      },
      "source": [
        "Clone the github repository and install dependencies"
      ]
    },
    {
      "cell_type": "code",
      "execution_count": null,
      "metadata": {
        "id": "OcI7rhEswNsJ",
        "colab": {
          "base_uri": "https://localhost:8080/"
        },
        "outputId": "02b9473e-35a3-4dec-f050-25c61da728c8"
      },
      "outputs": [
        {
          "output_type": "stream",
          "name": "stdout",
          "text": [
            "fatal: destination path 'EinsumNetworks' already exists and is not an empty directory.\n",
            "/content/EinsumNetworks\n",
            "/content/EinsumNetworks/src\n"
          ]
        }
      ],
      "source": [
        "! git clone https://github.com/cambridge-mlg/EinsumNetworks\n",
        "%cd EinsumNetworks/\n",
        "%cd src"
      ]
    },
    {
      "cell_type": "code",
      "source": [
        "## Uncomment and run if you find networkx related errors/warnings\n",
        "# !pip3 install --upgrade --force-reinstall networkx==2.4.0"
      ],
      "metadata": {
        "id": "oC9TDdImoN2N"
      },
      "execution_count": null,
      "outputs": []
    },
    {
      "cell_type": "markdown",
      "metadata": {
        "id": "Y_uw1EXxMN1-"
      },
      "source": [
        "### Initializing an Einsum Network for the MNIST dataset"
      ]
    },
    {
      "cell_type": "code",
      "source": [
        "import datasets\n",
        "import utils\n",
        "# 'EinsumNetwork' is the main class for creating and training the Einsum Network.\n",
        "from EinsumNetwork import Graph, EinsumNetwork\n",
        "\n",
        "# use gpu to run computations, if available\n",
        "device = 'cuda' if torch.cuda.is_available() else 'cpu'"
      ],
      "metadata": {
        "id": "RwmkbiLKNm8W"
      },
      "execution_count": null,
      "outputs": []
    },
    {
      "cell_type": "markdown",
      "source": [
        "Set the hyperparameters corresponding to the MNIST dataset"
      ],
      "metadata": {
        "id": "0cs1p-BdNrw1"
      }
    },
    {
      "cell_type": "code",
      "source": [
        "classes = [1,2,3] # List of classes to model. We will model the digits 1,2 and 3\n",
        "width   = 28\n",
        "height  = 28"
      ],
      "metadata": {
        "id": "s8st7DNeNvGr"
      },
      "execution_count": null,
      "outputs": []
    },
    {
      "cell_type": "markdown",
      "source": [
        "Set the hyperparameters to specify the EinsumNet structure\n"
      ],
      "metadata": {
        "id": "5AqVL5OVNxH6"
      }
    },
    {
      "cell_type": "code",
      "source": [
        "depth = 4\n",
        "num_repetitions = 20 # The number of replicas/ensemble components to be evaluated in parallel\n",
        "K = 10 # The number of vectorized sum and leaf distributions\n",
        "exponential_family = EinsumNetwork.BinomialArray # Leaf distribution\n",
        "\n",
        "# We will use the poon and domingos structure which invloves randomly splitting variables arranged in a grid along axis aligned cuts, suitable for image data\n",
        "structure = 'poon-domingos'\n",
        "pd_num_pieces = [4]\n",
        "\n",
        "# Leaf distribution hyperparameters. Each pixel can take 256 values (0-255) when using a discrete distribution at the leaves\n",
        "exponential_family_args = None\n",
        "if exponential_family == EinsumNetwork.BinomialArray:\n",
        "    exponential_family_args = {'N': 256}\n",
        "if exponential_family == EinsumNetwork.CategoricalArray:\n",
        "    exponential_family_args = {'K': 256}\n",
        "if exponential_family == EinsumNetwork.NormalArray:\n",
        "    exponential_family_args = {'min_var': 1e-6, 'max_var': 0.1}"
      ],
      "metadata": {
        "id": "qKQHypVzOWCB"
      },
      "execution_count": null,
      "outputs": []
    },
    {
      "cell_type": "markdown",
      "source": [
        "Set the training hyperparameters"
      ],
      "metadata": {
        "id": "-V_rWJrQOZUv"
      }
    },
    {
      "cell_type": "code",
      "source": [
        "# We will use EM to train the model\n",
        "num_epochs = 5\n",
        "batch_size = 100\n",
        "online_em_frequency = 1\n",
        "online_em_stepsize = 0.05\n"
      ],
      "metadata": {
        "id": "YK-GIm5pOjrk"
      },
      "execution_count": null,
      "outputs": []
    },
    {
      "cell_type": "markdown",
      "source": [
        "Load the dataset and normalize if using a continuous leaf distribution"
      ],
      "metadata": {
        "id": "v3xKeDtDOk46"
      }
    },
    {
      "cell_type": "code",
      "source": [
        "# get data\n",
        "train_x, train_labels, test_x, test_labels = datasets.load_mnist()\n",
        "\n",
        "if not exponential_family != EinsumNetwork.NormalArray:\n",
        "    train_x /= 255.\n",
        "    test_x /= 255.\n",
        "    train_x -= .5\n",
        "    test_x -= .5\n",
        "\n",
        "# validation split\n",
        "valid_x = train_x[-10000:, :]\n",
        "train_x = train_x[:-10000, :]\n",
        "valid_labels = train_labels[-10000:]\n",
        "train_labels = train_labels[:-10000]\n",
        "\n",
        "# pick the selected classes\n",
        "if classes is not None:\n",
        "    train_x = train_x[np.any(np.stack([train_labels == c for c in classes], 1), 1), :]\n",
        "    valid_x = valid_x[np.any(np.stack([valid_labels == c for c in classes], 1), 1), :]\n",
        "    test_x = test_x[np.any(np.stack([test_labels == c for c in classes], 1), 1), :]\n",
        "\n",
        "train_x = torch.from_numpy(train_x).to(torch.device(device))\n",
        "valid_x = torch.from_numpy(valid_x).to(torch.device(device))\n",
        "test_x = torch.from_numpy(test_x).to(torch.device(device))"
      ],
      "metadata": {
        "id": "NEuoGezXOu1D",
        "colab": {
          "base_uri": "https://localhost:8080/"
        },
        "outputId": "4ecbd332-9b2c-4206-83d4-df6218050328"
      },
      "execution_count": null,
      "outputs": [
        {
          "output_type": "stream",
          "name": "stdout",
          "text": [
            "Downloading http://yann.lecun.com/exdb/mnist/train-images-idx3-ubyte.gz to /tmp/tmpcdrcfejf.gz\n",
            "9912422 Bytes\n",
            "Move to ../data/mnist/train-images-idx3-ubyte.gz\n",
            "unzip ../data/mnist/train-images-idx3-ubyte.gz\n",
            "Downloading http://yann.lecun.com/exdb/mnist/train-labels-idx1-ubyte.gz to /tmp/tmpwexbqz55.gz\n",
            "28881 Bytes\n",
            "Move to ../data/mnist/train-labels-idx1-ubyte.gz\n",
            "unzip ../data/mnist/train-labels-idx1-ubyte.gz\n",
            "Downloading http://yann.lecun.com/exdb/mnist/t10k-images-idx3-ubyte.gz to /tmp/tmpyrt09nvb.gz\n",
            "1648877 Bytes\n",
            "Move to ../data/mnist/t10k-images-idx3-ubyte.gz\n",
            "unzip ../data/mnist/t10k-images-idx3-ubyte.gz\n",
            "Downloading http://yann.lecun.com/exdb/mnist/t10k-labels-idx1-ubyte.gz to /tmp/tmpj_miq9qk.gz\n",
            "4542 Bytes\n",
            "Move to ../data/mnist/t10k-labels-idx1-ubyte.gz\n",
            "unzip ../data/mnist/t10k-labels-idx1-ubyte.gz\n"
          ]
        }
      ]
    },
    {
      "cell_type": "markdown",
      "source": [
        "Build the EinsumNetwork"
      ],
      "metadata": {
        "id": "fu1qc2snOzXU"
      }
    },
    {
      "cell_type": "code",
      "execution_count": null,
      "metadata": {
        "colab": {
          "base_uri": "https://localhost:8080/"
        },
        "id": "Vrt0J1WaxALt",
        "outputId": "d2c3d77a-2f65-4105-e50a-d13bcd68625b"
      },
      "outputs": [
        {
          "output_type": "stream",
          "name": "stdout",
          "text": [
            "EinsumNetwork(\n",
            "  (einet_layers): ModuleList(\n",
            "    (0): FactorizedLeafLayer(\n",
            "      (ef_array): BinomialArray()\n",
            "    )\n",
            "    (1-2): 2 x EinsumLayer()\n",
            "    (3): EinsumMixingLayer()\n",
            "    (4): EinsumLayer()\n",
            "    (5): EinsumMixingLayer()\n",
            "    (6): EinsumLayer()\n",
            "    (7): EinsumMixingLayer()\n",
            "    (8): EinsumLayer()\n",
            "    (9): EinsumMixingLayer()\n",
            "    (10): EinsumLayer()\n",
            "    (11): EinsumMixingLayer()\n",
            "  )\n",
            ")\n"
          ]
        }
      ],
      "source": [
        "if structure == 'poon-domingos':\n",
        "    pd_delta = [[height / d, width / d] for d in pd_num_pieces]\n",
        "    graph = Graph.poon_domingos_structure(shape=(height, width), delta=pd_delta)\n",
        "elif structure == 'binary-trees':\n",
        "    graph = Graph.random_binary_trees(num_var=train_x.shape[1], depth=depth, num_repetitions=num_repetitions)\n",
        "else:\n",
        "    raise AssertionError(\"Unknown Structure\")\n",
        "\n",
        "args = EinsumNetwork.Args(\n",
        "        num_var=train_x.shape[1],\n",
        "        num_dims=1,\n",
        "        num_classes=10,\n",
        "        num_sums=K,\n",
        "        num_input_distributions=K,\n",
        "        exponential_family=exponential_family,\n",
        "        exponential_family_args=exponential_family_args,\n",
        "        online_em_frequency=online_em_frequency,\n",
        "        online_em_stepsize=online_em_stepsize)\n",
        "\n",
        "einet = EinsumNetwork.EinsumNetwork(graph, args)\n",
        "einet.initialize()\n",
        "einet.to(device)\n",
        "print(einet)"
      ]
    },
    {
      "cell_type": "markdown",
      "metadata": {
        "id": "GgrvUBrP9lMz"
      },
      "source": [
        "## Train the model using Maximum Likelihood"
      ]
    },
    {
      "cell_type": "code",
      "execution_count": null,
      "metadata": {
        "colab": {
          "base_uri": "https://localhost:8080/"
        },
        "id": "vZqRG2rNznxS",
        "outputId": "98278d89-544a-4b1f-8fa6-2951d5cd6cef"
      },
      "outputs": [
        {
          "output_type": "stream",
          "name": "stdout",
          "text": [
            "[0]   train LL -148267.3275862069   valid LL -148115.12678339818   test LL -148221.33050047213\n"
          ]
        },
        {
          "output_type": "stream",
          "name": "stderr",
          "text": [
            "100%|██████████| 158/158 [00:10<00:00, 14.85it/s]\n"
          ]
        },
        {
          "output_type": "stream",
          "name": "stdout",
          "text": [
            "[1]   train LL -14865.39899266527   valid LL -14723.598978599222   test LL -14630.64923670129\n"
          ]
        },
        {
          "output_type": "stream",
          "name": "stderr",
          "text": [
            "100%|██████████| 158/158 [00:05<00:00, 28.14it/s]\n"
          ]
        },
        {
          "output_type": "stream",
          "name": "stdout",
          "text": [
            "[2]   train LL -14633.957122785292   valid LL -14487.178947795072   test LL -14412.30897859616\n"
          ]
        },
        {
          "output_type": "stream",
          "name": "stderr",
          "text": [
            "100%|██████████| 158/158 [00:04<00:00, 34.59it/s]\n"
          ]
        },
        {
          "output_type": "stream",
          "name": "stdout",
          "text": [
            "[3]   train LL -14569.333611164031   valid LL -14462.944917315175   test LL -14314.254249291786\n"
          ]
        },
        {
          "output_type": "stream",
          "name": "stderr",
          "text": [
            "100%|██████████| 158/158 [00:05<00:00, 28.08it/s]\n"
          ]
        },
        {
          "output_type": "stream",
          "name": "stdout",
          "text": [
            "[4]   train LL -14574.688087413475   valid LL -14436.121311608302   test LL -14331.50019672647\n"
          ]
        },
        {
          "output_type": "stream",
          "name": "stderr",
          "text": [
            "100%|██████████| 158/158 [00:04<00:00, 34.48it/s]\n"
          ]
        }
      ],
      "source": [
        "# Train\n",
        "train_N = train_x.shape[0]\n",
        "valid_N = valid_x.shape[0]\n",
        "test_N = test_x.shape[0]\n",
        "\n",
        "for epoch_count in range(num_epochs):\n",
        "    ##### evaluate\n",
        "    einet.eval()\n",
        "    train_ll = EinsumNetwork.eval_loglikelihood_batched(einet, train_x, batch_size=batch_size)\n",
        "    valid_ll = EinsumNetwork.eval_loglikelihood_batched(einet, valid_x, batch_size=batch_size)\n",
        "    test_ll = EinsumNetwork.eval_loglikelihood_batched(einet, test_x, batch_size=batch_size)\n",
        "    print(\"[{}]   train LL {}   valid LL {}   test LL {}\".format(\n",
        "        epoch_count,\n",
        "        train_ll / train_N,\n",
        "        valid_ll / valid_N,\n",
        "        test_ll / test_N))\n",
        "    #####\n",
        "    einet.train()\n",
        "    idx_batches = torch.randperm(train_N, device=device).split(batch_size)\n",
        "    total_ll = 0.0\n",
        "    for idx in tqdm(idx_batches):\n",
        "        batch_x = train_x[idx, :]\n",
        "        outputs = einet.forward(batch_x)\n",
        "        ll_sample = EinsumNetwork.log_likelihoods(outputs)\n",
        "        log_likelihood = ll_sample.sum()\n",
        "        log_likelihood.backward()\n",
        "        einet.em_process_batch()\n",
        "        total_ll += log_likelihood.detach().item()\n",
        "    einet.em_update()"
      ]
    },
    {
      "cell_type": "markdown",
      "metadata": {
        "id": "Sz9pAf3UXbjw"
      },
      "source": [
        "## Sampling\n",
        "Generate samples from the learned distribution and visualize it to compare  against the real data points."
      ]
    },
    {
      "cell_type": "code",
      "execution_count": null,
      "metadata": {
        "colab": {
          "base_uri": "https://localhost:8080/",
          "height": 409
        },
        "id": "v8-8DXxQzyUL",
        "outputId": "1550dc07-b91b-4b24-ca30-208c64922f53"
      },
      "outputs": [
        {
          "output_type": "stream",
          "name": "stdout",
          "text": [
            "\n",
            " Real Data\n",
            "\n"
          ]
        },
        {
          "output_type": "display_data",
          "data": {
            "text/plain": [
              "<Figure size 4000x400 with 10 Axes>"
            ],
            "image/png": "[encoded data removed]"
          },
          "metadata": {}
        },
        {
          "output_type": "stream",
          "name": "stdout",
          "text": [
            "\n",
            " Generated Data\n",
            "\n"
          ]
        },
        {
          "output_type": "display_data",
          "data": {
            "text/plain": [
              "<Figure size 4000x400 with 10 Axes>"
            ],
            "image/png": "[encoded data removed]"
          },
          "metadata": {}
        }
      ],
      "source": [
        "def plot_mnist(samples):\n",
        "  n = len(samples)\n",
        "  fig, axs = plt.subplots(1,n, figsize=(4*n,4))\n",
        "  for i in range(n):\n",
        "    axs[i].imshow(samples[i,:,:], cmap='gray')\n",
        "    axs[i].set_xticks([])\n",
        "    axs[i].set_yticks([])\n",
        "  plt.show()\n",
        "\n",
        "num_samples = 10\n",
        "print(\"\\n Real Data\\n\")\n",
        "real_samples = valid_x[:num_samples,:].cpu().reshape((-1, 28, 28))\n",
        "plot_mnist(real_samples)\n",
        "\n",
        "# draw some samples\n",
        "print(\"\\n Generated Data\\n\")\n",
        "gen_samples = einet.sample(num_samples=num_samples).cpu().numpy()\n",
        "gen_samples = gen_samples.reshape((-1, 28, 28))\n",
        "plot_mnist(gen_samples)\n"
      ]
    },
    {
      "cell_type": "markdown",
      "metadata": {
        "id": "FTr78Tn3Xgf9"
      },
      "source": [
        "### Utilizing Tractablity of Probabilistic Inference\n",
        "\n",
        "Let us look at how we can use tractability for marginal (MAR) and conditional (CON) queries to handle missing data.\n",
        "\n",
        "**Let us first corrupt the data by randomly setting pixels to zero.**"
      ]
    },
    {
      "cell_type": "code",
      "source": [
        "# Set the num of pixels to corrupt\n",
        "n_corrupt = 600 # Vary this to play around with the amount of corruption. Max=784\n",
        "image_scope = np.array(range(height * width)).reshape(height, width)\n",
        "# Randomly select pixels to corrupt\n",
        "marginalize_idx = np.random.choice(list(range(784)),n_corrupt, replace=False).reshape(-1)\n",
        "keep_idx = [i for i in range(width*height) if i not in marginalize_idx]\n",
        "\n",
        "corrupted_samples = real_samples.clone().view(-1,784)\n",
        "corrupted_samples[:,marginalize_idx] = 0\n",
        "print(\"\\n Corrupted Data\\n\")\n",
        "plot_mnist(corrupted_samples.reshape(-1, 28, 28))"
      ],
      "metadata": {
        "colab": {
          "base_uri": "https://localhost:8080/",
          "height": 213
        },
        "id": "C87F5Dv9UjwC",
        "outputId": "cf83a8ce-9b14-4341-8a2b-4b58a6cdbd38"
      },
      "execution_count": null,
      "outputs": [
        {
          "output_type": "stream",
          "name": "stdout",
          "text": [
            "\n",
            " Corrupted Data\n",
            "\n"
          ]
        },
        {
          "output_type": "display_data",
          "data": {
            "text/plain": [
              "<Figure size 4000x400 with 10 Axes>"
            ],
            "image/png": "[encoded data removed]"
          },
          "metadata": {}
        }
      ]
    },
    {
      "cell_type": "markdown",
      "source": [
        "Now let us **inpaint the corrupted images by sampling from the conditional distribution** over the corrupted pixels given the non corrupted ones."
      ],
      "metadata": {
        "id": "jtHdTD13Vxiy"
      }
    },
    {
      "cell_type": "code",
      "execution_count": null,
      "metadata": {
        "colab": {
          "base_uri": "https://localhost:8080/",
          "height": 179
        },
        "id": "GQb4WHR1F6az",
        "outputId": "5bcced54-9438-47dc-841b-0af4b19844db"
      },
      "outputs": [
        {
          "output_type": "stream",
          "name": "stdout",
          "text": [
            "Inpainted images obtained by sampling from the conditional distribution\n"
          ]
        },
        {
          "output_type": "display_data",
          "data": {
            "text/plain": [
              "<Figure size 4000x400 with 10 Axes>"
            ],
            "image/png": "[encoded data removed]"
          },
          "metadata": {}
        }
      ],
      "source": [
        "einet.set_marginalization_idx(marginalize_idx)\n",
        "num_samples = 10\n",
        "for k in range(num_samples):\n",
        "    con_samples = einet.sample(x=corrupted_samples.to(device)).cpu().numpy()\n",
        "con_samples /= num_samples\n",
        "con_samples = con_samples.squeeze()\n",
        "con_samples = con_samples.reshape((-1, 28, 28))\n",
        "print(\"Inpainted images obtained by sampling from the conditional distribution\")\n",
        "plot_mnist(con_samples.reshape(-1, 28, 28))\n"
      ]
    },
    {
      "cell_type": "markdown",
      "source": [
        "Another way to inpaint the corrupted images is to perform MAP inference over the corrupted pixels. Tractability for MAP requires determinism in addition to smoothness and decomposability. However, einsum networks are not deterministic, hence we cannot do exact MAP inference. We can still approximate MAP by replacing sum nodes by max activations."
      ],
      "metadata": {
        "id": "CWTaRSfSXqAs"
      }
    },
    {
      "cell_type": "code",
      "execution_count": null,
      "metadata": {
        "colab": {
          "base_uri": "https://localhost:8080/",
          "height": 179
        },
        "id": "ylUmZjl9DEvl",
        "outputId": "eb33b6db-6b03-444b-900f-748bdc66b1f8"
      },
      "outputs": [
        {
          "output_type": "stream",
          "name": "stdout",
          "text": [
            "Inpainted images obtained by (approximate) MAP inference \n"
          ]
        },
        {
          "output_type": "display_data",
          "data": {
            "text/plain": [
              "<Figure size 4000x400 with 10 Axes>"
            ],
            "image/png": "[encoded data removed]"
          },
          "metadata": {}
        }
      ],
      "source": [
        "einet.set_marginalization_idx(marginalize_idx)\n",
        "mpe_samples = einet.mpe(x=corrupted_samples.to(device)).cpu().numpy()\n",
        "mpe_samples = mpe_samples.squeeze()\n",
        "mpe_samples = mpe_samples.reshape((-1, 28, 28))\n",
        "print(\"Inpainted images obtained by (approximate) MAP inference \")\n",
        "plot_mnist(mpe_samples.reshape(-1, 28, 28))"
      ]
    },
    {
      "cell_type": "code",
      "source": [],
      "metadata": {
        "id": "S8VbaJgmXjvC"
      },
      "execution_count": null,
      "outputs": []
    }
  ],
  "metadata": {
    "accelerator": "GPU",
    "colab": {
      "provenance": [],
      "include_colab_link": true
    },
    "kernelspec": {
      "display_name": "Python 3",
      "name": "python3"
    },
    "language_info": {
      "name": "python"
    }
  },
  "nbformat": 4,
  "nbformat_minor": 0
}